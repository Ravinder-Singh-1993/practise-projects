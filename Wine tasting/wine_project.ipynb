{
 "cells": [
  {
   "cell_type": "code",
   "execution_count": 22,
   "id": "6eed682e",
   "metadata": {},
   "outputs": [],
   "source": [
    "import pandas as pd\n",
    "import numpy as np\n",
    "import warnings\n",
    "import seaborn as sns\n",
    "import matplotlib.pyplot as plt\n",
    "warnings.filterwarnings('ignore')"
   ]
  },
  {
   "cell_type": "code",
   "execution_count": 109,
   "id": "76f33081",
   "metadata": {},
   "outputs": [
    {
     "data": {
      "text/html": [
       "<div>\n",
       "<style scoped>\n",
       "    .dataframe tbody tr th:only-of-type {\n",
       "        vertical-align: middle;\n",
       "    }\n",
       "\n",
       "    .dataframe tbody tr th {\n",
       "        vertical-align: top;\n",
       "    }\n",
       "\n",
       "    .dataframe thead th {\n",
       "        text-align: right;\n",
       "    }\n",
       "</style>\n",
       "<table border=\"1\" class=\"dataframe\">\n",
       "  <thead>\n",
       "    <tr style=\"text-align: right;\">\n",
       "      <th></th>\n",
       "      <th>fixed acidity</th>\n",
       "      <th>volatile acidity</th>\n",
       "      <th>citric acid</th>\n",
       "      <th>residual sugar</th>\n",
       "      <th>chlorides</th>\n",
       "      <th>free sulfur dioxide</th>\n",
       "      <th>total sulfur dioxide</th>\n",
       "      <th>density</th>\n",
       "      <th>pH</th>\n",
       "      <th>sulphates</th>\n",
       "      <th>alcohol</th>\n",
       "      <th>quality</th>\n",
       "    </tr>\n",
       "  </thead>\n",
       "  <tbody>\n",
       "    <tr>\n",
       "      <th>0</th>\n",
       "      <td>7.4</td>\n",
       "      <td>0.700</td>\n",
       "      <td>0.00</td>\n",
       "      <td>1.9</td>\n",
       "      <td>0.076</td>\n",
       "      <td>11.0</td>\n",
       "      <td>34.0</td>\n",
       "      <td>0.99780</td>\n",
       "      <td>3.51</td>\n",
       "      <td>0.56</td>\n",
       "      <td>9.4</td>\n",
       "      <td>5</td>\n",
       "    </tr>\n",
       "    <tr>\n",
       "      <th>1</th>\n",
       "      <td>7.8</td>\n",
       "      <td>0.880</td>\n",
       "      <td>0.00</td>\n",
       "      <td>2.6</td>\n",
       "      <td>0.098</td>\n",
       "      <td>25.0</td>\n",
       "      <td>67.0</td>\n",
       "      <td>0.99680</td>\n",
       "      <td>3.20</td>\n",
       "      <td>0.68</td>\n",
       "      <td>9.8</td>\n",
       "      <td>5</td>\n",
       "    </tr>\n",
       "    <tr>\n",
       "      <th>2</th>\n",
       "      <td>7.8</td>\n",
       "      <td>0.760</td>\n",
       "      <td>0.04</td>\n",
       "      <td>2.3</td>\n",
       "      <td>0.092</td>\n",
       "      <td>15.0</td>\n",
       "      <td>54.0</td>\n",
       "      <td>0.99700</td>\n",
       "      <td>3.26</td>\n",
       "      <td>0.65</td>\n",
       "      <td>9.8</td>\n",
       "      <td>5</td>\n",
       "    </tr>\n",
       "    <tr>\n",
       "      <th>3</th>\n",
       "      <td>11.2</td>\n",
       "      <td>0.280</td>\n",
       "      <td>0.56</td>\n",
       "      <td>1.9</td>\n",
       "      <td>0.075</td>\n",
       "      <td>17.0</td>\n",
       "      <td>60.0</td>\n",
       "      <td>0.99800</td>\n",
       "      <td>3.16</td>\n",
       "      <td>0.58</td>\n",
       "      <td>9.8</td>\n",
       "      <td>6</td>\n",
       "    </tr>\n",
       "    <tr>\n",
       "      <th>4</th>\n",
       "      <td>7.4</td>\n",
       "      <td>0.700</td>\n",
       "      <td>0.00</td>\n",
       "      <td>1.9</td>\n",
       "      <td>0.076</td>\n",
       "      <td>11.0</td>\n",
       "      <td>34.0</td>\n",
       "      <td>0.99780</td>\n",
       "      <td>3.51</td>\n",
       "      <td>0.56</td>\n",
       "      <td>9.4</td>\n",
       "      <td>5</td>\n",
       "    </tr>\n",
       "    <tr>\n",
       "      <th>...</th>\n",
       "      <td>...</td>\n",
       "      <td>...</td>\n",
       "      <td>...</td>\n",
       "      <td>...</td>\n",
       "      <td>...</td>\n",
       "      <td>...</td>\n",
       "      <td>...</td>\n",
       "      <td>...</td>\n",
       "      <td>...</td>\n",
       "      <td>...</td>\n",
       "      <td>...</td>\n",
       "      <td>...</td>\n",
       "    </tr>\n",
       "    <tr>\n",
       "      <th>1594</th>\n",
       "      <td>6.2</td>\n",
       "      <td>0.600</td>\n",
       "      <td>0.08</td>\n",
       "      <td>2.0</td>\n",
       "      <td>0.090</td>\n",
       "      <td>32.0</td>\n",
       "      <td>44.0</td>\n",
       "      <td>0.99490</td>\n",
       "      <td>3.45</td>\n",
       "      <td>0.58</td>\n",
       "      <td>10.5</td>\n",
       "      <td>5</td>\n",
       "    </tr>\n",
       "    <tr>\n",
       "      <th>1595</th>\n",
       "      <td>5.9</td>\n",
       "      <td>0.550</td>\n",
       "      <td>0.10</td>\n",
       "      <td>2.2</td>\n",
       "      <td>0.062</td>\n",
       "      <td>39.0</td>\n",
       "      <td>51.0</td>\n",
       "      <td>0.99512</td>\n",
       "      <td>3.52</td>\n",
       "      <td>0.76</td>\n",
       "      <td>11.2</td>\n",
       "      <td>6</td>\n",
       "    </tr>\n",
       "    <tr>\n",
       "      <th>1596</th>\n",
       "      <td>6.3</td>\n",
       "      <td>0.510</td>\n",
       "      <td>0.13</td>\n",
       "      <td>2.3</td>\n",
       "      <td>0.076</td>\n",
       "      <td>29.0</td>\n",
       "      <td>40.0</td>\n",
       "      <td>0.99574</td>\n",
       "      <td>3.42</td>\n",
       "      <td>0.75</td>\n",
       "      <td>11.0</td>\n",
       "      <td>6</td>\n",
       "    </tr>\n",
       "    <tr>\n",
       "      <th>1597</th>\n",
       "      <td>5.9</td>\n",
       "      <td>0.645</td>\n",
       "      <td>0.12</td>\n",
       "      <td>2.0</td>\n",
       "      <td>0.075</td>\n",
       "      <td>32.0</td>\n",
       "      <td>44.0</td>\n",
       "      <td>0.99547</td>\n",
       "      <td>3.57</td>\n",
       "      <td>0.71</td>\n",
       "      <td>10.2</td>\n",
       "      <td>5</td>\n",
       "    </tr>\n",
       "    <tr>\n",
       "      <th>1598</th>\n",
       "      <td>6.0</td>\n",
       "      <td>0.310</td>\n",
       "      <td>0.47</td>\n",
       "      <td>3.6</td>\n",
       "      <td>0.067</td>\n",
       "      <td>18.0</td>\n",
       "      <td>42.0</td>\n",
       "      <td>0.99549</td>\n",
       "      <td>3.39</td>\n",
       "      <td>0.66</td>\n",
       "      <td>11.0</td>\n",
       "      <td>6</td>\n",
       "    </tr>\n",
       "  </tbody>\n",
       "</table>\n",
       "<p>1599 rows × 12 columns</p>\n",
       "</div>"
      ],
      "text/plain": [
       "      fixed acidity  volatile acidity  citric acid  residual sugar  chlorides  \\\n",
       "0               7.4             0.700         0.00             1.9      0.076   \n",
       "1               7.8             0.880         0.00             2.6      0.098   \n",
       "2               7.8             0.760         0.04             2.3      0.092   \n",
       "3              11.2             0.280         0.56             1.9      0.075   \n",
       "4               7.4             0.700         0.00             1.9      0.076   \n",
       "...             ...               ...          ...             ...        ...   \n",
       "1594            6.2             0.600         0.08             2.0      0.090   \n",
       "1595            5.9             0.550         0.10             2.2      0.062   \n",
       "1596            6.3             0.510         0.13             2.3      0.076   \n",
       "1597            5.9             0.645         0.12             2.0      0.075   \n",
       "1598            6.0             0.310         0.47             3.6      0.067   \n",
       "\n",
       "      free sulfur dioxide  total sulfur dioxide  density    pH  sulphates  \\\n",
       "0                    11.0                  34.0  0.99780  3.51       0.56   \n",
       "1                    25.0                  67.0  0.99680  3.20       0.68   \n",
       "2                    15.0                  54.0  0.99700  3.26       0.65   \n",
       "3                    17.0                  60.0  0.99800  3.16       0.58   \n",
       "4                    11.0                  34.0  0.99780  3.51       0.56   \n",
       "...                   ...                   ...      ...   ...        ...   \n",
       "1594                 32.0                  44.0  0.99490  3.45       0.58   \n",
       "1595                 39.0                  51.0  0.99512  3.52       0.76   \n",
       "1596                 29.0                  40.0  0.99574  3.42       0.75   \n",
       "1597                 32.0                  44.0  0.99547  3.57       0.71   \n",
       "1598                 18.0                  42.0  0.99549  3.39       0.66   \n",
       "\n",
       "      alcohol  quality  \n",
       "0         9.4        5  \n",
       "1         9.8        5  \n",
       "2         9.8        5  \n",
       "3         9.8        6  \n",
       "4         9.4        5  \n",
       "...       ...      ...  \n",
       "1594     10.5        5  \n",
       "1595     11.2        6  \n",
       "1596     11.0        6  \n",
       "1597     10.2        5  \n",
       "1598     11.0        6  \n",
       "\n",
       "[1599 rows x 12 columns]"
      ]
     },
     "execution_count": 109,
     "metadata": {},
     "output_type": "execute_result"
    }
   ],
   "source": [
    "wine=pd.read_csv(\"https://raw.githubusercontent.com/dsrscientist/DSData/master/winequality-red.csv\")\n",
    "wine"
   ]
  },
  {
   "cell_type": "code",
   "execution_count": 62,
   "id": "e0668035",
   "metadata": {},
   "outputs": [
    {
     "data": {
      "text/html": [
       "<div>\n",
       "<style scoped>\n",
       "    .dataframe tbody tr th:only-of-type {\n",
       "        vertical-align: middle;\n",
       "    }\n",
       "\n",
       "    .dataframe tbody tr th {\n",
       "        vertical-align: top;\n",
       "    }\n",
       "\n",
       "    .dataframe thead th {\n",
       "        text-align: right;\n",
       "    }\n",
       "</style>\n",
       "<table border=\"1\" class=\"dataframe\">\n",
       "  <thead>\n",
       "    <tr style=\"text-align: right;\">\n",
       "      <th></th>\n",
       "      <th>fixed acidity</th>\n",
       "      <th>volatile acidity</th>\n",
       "      <th>citric acid</th>\n",
       "      <th>residual sugar</th>\n",
       "      <th>chlorides</th>\n",
       "      <th>free sulfur dioxide</th>\n",
       "      <th>total sulfur dioxide</th>\n",
       "      <th>density</th>\n",
       "      <th>pH</th>\n",
       "      <th>sulphates</th>\n",
       "      <th>alcohol</th>\n",
       "      <th>quality</th>\n",
       "    </tr>\n",
       "  </thead>\n",
       "  <tbody>\n",
       "    <tr>\n",
       "      <th>count</th>\n",
       "      <td>1599.000000</td>\n",
       "      <td>1599.000000</td>\n",
       "      <td>1599.000000</td>\n",
       "      <td>1599.000000</td>\n",
       "      <td>1599.000000</td>\n",
       "      <td>1599.000000</td>\n",
       "      <td>1599.000000</td>\n",
       "      <td>1599.000000</td>\n",
       "      <td>1599.000000</td>\n",
       "      <td>1599.000000</td>\n",
       "      <td>1599.000000</td>\n",
       "      <td>1599.000000</td>\n",
       "    </tr>\n",
       "    <tr>\n",
       "      <th>mean</th>\n",
       "      <td>8.319637</td>\n",
       "      <td>0.527821</td>\n",
       "      <td>0.270976</td>\n",
       "      <td>2.538806</td>\n",
       "      <td>0.087467</td>\n",
       "      <td>15.874922</td>\n",
       "      <td>46.467792</td>\n",
       "      <td>0.996747</td>\n",
       "      <td>3.311113</td>\n",
       "      <td>0.658149</td>\n",
       "      <td>10.422983</td>\n",
       "      <td>5.636023</td>\n",
       "    </tr>\n",
       "    <tr>\n",
       "      <th>std</th>\n",
       "      <td>1.741096</td>\n",
       "      <td>0.179060</td>\n",
       "      <td>0.194801</td>\n",
       "      <td>1.409928</td>\n",
       "      <td>0.047065</td>\n",
       "      <td>10.460157</td>\n",
       "      <td>32.895324</td>\n",
       "      <td>0.001887</td>\n",
       "      <td>0.154386</td>\n",
       "      <td>0.169507</td>\n",
       "      <td>1.065668</td>\n",
       "      <td>0.807569</td>\n",
       "    </tr>\n",
       "    <tr>\n",
       "      <th>min</th>\n",
       "      <td>4.600000</td>\n",
       "      <td>0.120000</td>\n",
       "      <td>0.000000</td>\n",
       "      <td>0.900000</td>\n",
       "      <td>0.012000</td>\n",
       "      <td>1.000000</td>\n",
       "      <td>6.000000</td>\n",
       "      <td>0.990070</td>\n",
       "      <td>2.740000</td>\n",
       "      <td>0.330000</td>\n",
       "      <td>8.400000</td>\n",
       "      <td>3.000000</td>\n",
       "    </tr>\n",
       "    <tr>\n",
       "      <th>25%</th>\n",
       "      <td>7.100000</td>\n",
       "      <td>0.390000</td>\n",
       "      <td>0.090000</td>\n",
       "      <td>1.900000</td>\n",
       "      <td>0.070000</td>\n",
       "      <td>7.000000</td>\n",
       "      <td>22.000000</td>\n",
       "      <td>0.995600</td>\n",
       "      <td>3.210000</td>\n",
       "      <td>0.550000</td>\n",
       "      <td>9.500000</td>\n",
       "      <td>5.000000</td>\n",
       "    </tr>\n",
       "    <tr>\n",
       "      <th>50%</th>\n",
       "      <td>7.900000</td>\n",
       "      <td>0.520000</td>\n",
       "      <td>0.260000</td>\n",
       "      <td>2.200000</td>\n",
       "      <td>0.079000</td>\n",
       "      <td>14.000000</td>\n",
       "      <td>38.000000</td>\n",
       "      <td>0.996750</td>\n",
       "      <td>3.310000</td>\n",
       "      <td>0.620000</td>\n",
       "      <td>10.200000</td>\n",
       "      <td>6.000000</td>\n",
       "    </tr>\n",
       "    <tr>\n",
       "      <th>75%</th>\n",
       "      <td>9.200000</td>\n",
       "      <td>0.640000</td>\n",
       "      <td>0.420000</td>\n",
       "      <td>2.600000</td>\n",
       "      <td>0.090000</td>\n",
       "      <td>21.000000</td>\n",
       "      <td>62.000000</td>\n",
       "      <td>0.997835</td>\n",
       "      <td>3.400000</td>\n",
       "      <td>0.730000</td>\n",
       "      <td>11.100000</td>\n",
       "      <td>6.000000</td>\n",
       "    </tr>\n",
       "    <tr>\n",
       "      <th>max</th>\n",
       "      <td>15.900000</td>\n",
       "      <td>1.580000</td>\n",
       "      <td>1.000000</td>\n",
       "      <td>15.500000</td>\n",
       "      <td>0.611000</td>\n",
       "      <td>72.000000</td>\n",
       "      <td>289.000000</td>\n",
       "      <td>1.003690</td>\n",
       "      <td>4.010000</td>\n",
       "      <td>2.000000</td>\n",
       "      <td>14.900000</td>\n",
       "      <td>8.000000</td>\n",
       "    </tr>\n",
       "  </tbody>\n",
       "</table>\n",
       "</div>"
      ],
      "text/plain": [
       "       fixed acidity  volatile acidity  citric acid  residual sugar  \\\n",
       "count    1599.000000       1599.000000  1599.000000     1599.000000   \n",
       "mean        8.319637          0.527821     0.270976        2.538806   \n",
       "std         1.741096          0.179060     0.194801        1.409928   \n",
       "min         4.600000          0.120000     0.000000        0.900000   \n",
       "25%         7.100000          0.390000     0.090000        1.900000   \n",
       "50%         7.900000          0.520000     0.260000        2.200000   \n",
       "75%         9.200000          0.640000     0.420000        2.600000   \n",
       "max        15.900000          1.580000     1.000000       15.500000   \n",
       "\n",
       "         chlorides  free sulfur dioxide  total sulfur dioxide      density  \\\n",
       "count  1599.000000          1599.000000           1599.000000  1599.000000   \n",
       "mean      0.087467            15.874922             46.467792     0.996747   \n",
       "std       0.047065            10.460157             32.895324     0.001887   \n",
       "min       0.012000             1.000000              6.000000     0.990070   \n",
       "25%       0.070000             7.000000             22.000000     0.995600   \n",
       "50%       0.079000            14.000000             38.000000     0.996750   \n",
       "75%       0.090000            21.000000             62.000000     0.997835   \n",
       "max       0.611000            72.000000            289.000000     1.003690   \n",
       "\n",
       "                pH    sulphates      alcohol      quality  \n",
       "count  1599.000000  1599.000000  1599.000000  1599.000000  \n",
       "mean      3.311113     0.658149    10.422983     5.636023  \n",
       "std       0.154386     0.169507     1.065668     0.807569  \n",
       "min       2.740000     0.330000     8.400000     3.000000  \n",
       "25%       3.210000     0.550000     9.500000     5.000000  \n",
       "50%       3.310000     0.620000    10.200000     6.000000  \n",
       "75%       3.400000     0.730000    11.100000     6.000000  \n",
       "max       4.010000     2.000000    14.900000     8.000000  "
      ]
     },
     "execution_count": 62,
     "metadata": {},
     "output_type": "execute_result"
    }
   ],
   "source": [
    "wine.describe()"
   ]
  },
  {
   "cell_type": "code",
   "execution_count": 63,
   "id": "ff14944c",
   "metadata": {},
   "outputs": [
    {
     "data": {
      "text/plain": [
       "0"
      ]
     },
     "execution_count": 63,
     "metadata": {},
     "output_type": "execute_result"
    }
   ],
   "source": [
    "wine.isnull().sum().sum()"
   ]
  },
  {
   "cell_type": "code",
   "execution_count": 64,
   "id": "2a154a66",
   "metadata": {},
   "outputs": [
    {
     "data": {
      "image/png": "[encoded data removed]",
      "text/plain": [
       "<Figure size 720x720 with 2 Axes>"
      ]
     },
     "metadata": {
      "needs_background": "light"
     },
     "output_type": "display_data"
    }
   ],
   "source": [
    "# heat map of cor-relation\n",
    "plt.figure(figsize=(10, 10))\n",
    "colormap=sns.color_palette(\"viridis\")\n",
    "\n",
    "sns.heatmap(wine.corr() ,cmap=colormap ,annot = True)\n",
    "plt.show()"
   ]
  },
  {
   "cell_type": "code",
   "execution_count": 65,
   "id": "701b5f0e",
   "metadata": {},
   "outputs": [
    {
     "data": {
      "text/plain": [
       "<AxesSubplot:xlabel='quality', ylabel='count'>"
      ]
     },
     "execution_count": 65,
     "metadata": {},
     "output_type": "execute_result"
    },
    {
     "data": {
      "image/png": "[encoded data removed]",
      "text/plain": [
       "<Figure size 432x288 with 1 Axes>"
      ]
     },
     "metadata": {
      "needs_background": "light"
     },
     "output_type": "display_data"
    }
   ],
   "source": [
    "sns.countplot(x='quality',data=wine)"
   ]
  },
  {
   "cell_type": "code",
   "execution_count": 66,
   "id": "8e3d3bc7",
   "metadata": {},
   "outputs": [
    {
     "data": {
      "text/plain": [
       "<AxesSubplot:xlabel='quality', ylabel='citric acid'>"
      ]
     },
     "execution_count": 66,
     "metadata": {},
     "output_type": "execute_result"
    },
    {
     "data": {
      "image/png": "[encoded data removed]",
      "text/plain": [
       "<Figure size 432x288 with 1 Axes>"
      ]
     },
     "metadata": {
      "needs_background": "light"
     },
     "output_type": "display_data"
    }
   ],
   "source": [
    "sns.barplot(x='quality',y='citric acid',data=wine)"
   ]
  },
  {
   "cell_type": "code",
   "execution_count": 67,
   "id": "e100e096",
   "metadata": {},
   "outputs": [
    {
     "data": {
      "text/plain": [
       "<AxesSubplot:xlabel='quality', ylabel='pH'>"
      ]
     },
     "execution_count": 67,
     "metadata": {},
     "output_type": "execute_result"
    },
    {
     "data": {
      "image/png": "[encoded data removed]",
      "text/plain": [
       "<Figure size 432x288 with 1 Axes>"
      ]
     },
     "metadata": {
      "needs_background": "light"
     },
     "output_type": "display_data"
    }
   ],
   "source": [
    "sns.barplot(x='quality',y='pH',data=wine)"
   ]
  },
  {
   "cell_type": "code",
   "execution_count": 68,
   "id": "08f4e4e1",
   "metadata": {},
   "outputs": [
    {
     "data": {
      "text/plain": [
       "<AxesSubplot:xlabel='quality', ylabel='residual sugar'>"
      ]
     },
     "execution_count": 68,
     "metadata": {},
     "output_type": "execute_result"
    },
    {
     "data": {
      "image/png": "[encoded data removed]",
      "text/plain": [
       "<Figure size 432x288 with 1 Axes>"
      ]
     },
     "metadata": {
      "needs_background": "light"
     },
     "output_type": "display_data"
    }
   ],
   "source": [
    "sns.barplot(x='quality',y='residual sugar',data=wine)"
   ]
  },
  {
   "cell_type": "code",
   "execution_count": 69,
   "id": "55d6e0f1",
   "metadata": {},
   "outputs": [
    {
     "data": {
      "text/plain": [
       "<AxesSubplot:xlabel='quality', ylabel='free sulfur dioxide'>"
      ]
     },
     "execution_count": 69,
     "metadata": {},
     "output_type": "execute_result"
    },
    {
     "data": {
      "image/png": "[encoded data removed]",
      "text/plain": [
       "<Figure size 432x288 with 1 Axes>"
      ]
     },
     "metadata": {
      "needs_background": "light"
     },
     "output_type": "display_data"
    }
   ],
   "source": [
    "sns.barplot(x='quality',y='free sulfur dioxide',data=wine)"
   ]
  },
  {
   "cell_type": "code",
   "execution_count": 70,
   "id": "a50ef9a7",
   "metadata": {},
   "outputs": [
    {
     "data": {
      "text/plain": [
       "<AxesSubplot:xlabel='quality', ylabel='density'>"
      ]
     },
     "execution_count": 70,
     "metadata": {},
     "output_type": "execute_result"
    },
    {
     "data": {
      "image/png": "[encoded data removed]",
      "text/plain": [
       "<Figure size 432x288 with 1 Axes>"
      ]
     },
     "metadata": {
      "needs_background": "light"
     },
     "output_type": "display_data"
    }
   ],
   "source": [
    "sns.barplot(x='quality',y='density',data=wine)"
   ]
  },
  {
   "cell_type": "code",
   "execution_count": 71,
   "id": "8a304176",
   "metadata": {},
   "outputs": [
    {
     "data": {
      "text/plain": [
       "<AxesSubplot:xlabel='quality', ylabel='alcohol'>"
      ]
     },
     "execution_count": 71,
     "metadata": {},
     "output_type": "execute_result"
    },
    {
     "data": {
      "image/png": "[encoded data removed]",
      "text/plain": [
       "<Figure size 432x288 with 1 Axes>"
      ]
     },
     "metadata": {
      "needs_background": "light"
     },
     "output_type": "display_data"
    }
   ],
   "source": [
    "sns.barplot(x='quality',y='alcohol',data=wine)"
   ]
  },
  {
   "cell_type": "code",
   "execution_count": 110,
   "id": "eb278aee",
   "metadata": {},
   "outputs": [],
   "source": [
    "mylist_good=np.where(wine.quality>=7)\n",
    "mylist_poor=np.where(wine.quality<=6)\n",
    "\n",
    "for item in mylist_good:\n",
    "    wine['quality'][item]= \"Good\" \n",
    "for item in mylist_poor:\n",
    "    wine['quality'][item]= \"Poor\" "
   ]
  },
  {
   "cell_type": "code",
   "execution_count": 111,
   "id": "c99ec9fd",
   "metadata": {},
   "outputs": [
    {
     "data": {
      "text/plain": [
       "array(['Poor', 'Good'], dtype=object)"
      ]
     },
     "execution_count": 111,
     "metadata": {},
     "output_type": "execute_result"
    }
   ],
   "source": [
    "wine['quality'].unique()"
   ]
  },
  {
   "cell_type": "code",
   "execution_count": 112,
   "id": "77e9c894",
   "metadata": {},
   "outputs": [],
   "source": [
    "from sklearn.preprocessing import LabelEncoder\n",
    "LE= LabelEncoder()\n",
    "wine['quality']=LE.fit_transform(wine['quality'])"
   ]
  },
  {
   "cell_type": "code",
   "execution_count": 113,
   "id": "a565f7eb",
   "metadata": {},
   "outputs": [
    {
     "name": "stdout",
     "output_type": "stream",
     "text": [
      "R-square 0.06311302326282575 Random state 0\n",
      "R-square 0.08387318977137237 Random state 1\n",
      "R-square 0.2241037818298267 Random state 2\n",
      "R-square 0.24492230743858256 Random state 3\n",
      "R-square 0.2739693486505522 Random state 4\n",
      "R-square 0.3045100614401909 Random state 10\n",
      "R-square 0.321702335892028 Random state 78\n"
     ]
    }
   ],
   "source": [
    "from sklearn import datasets, linear_model, metrics\n",
    "from sklearn import preprocessing\n",
    "from sklearn.preprocessing import StandardScaler\n",
    "from sklearn.model_selection import train_test_split\n",
    "from sklearn.linear_model import LinearRegression\n",
    "x=wine.drop('quality',axis=1)\n",
    "y=wine['quality']\n",
    "from sklearn.metrics import r2_score\n",
    "maxAcc=0\n",
    "maxRS=0\n",
    "for i in range(200):\n",
    "    x_train, x_test, y_train, y_test = train_test_split(x, y, test_size=0.2,\n",
    "                                                    random_state=i)\n",
    "    SC=StandardScaler()\n",
    "    x_train = SC.fit_transform(x_train)\n",
    "    x_test = SC.fit_transform(x_test)\n",
    "    model=LinearRegression()\n",
    "    model.fit(x_train,y_train)\n",
    "    pred= model.predict(x_test)\n",
    "    acc=r2_score(y_test,pred)\n",
    "    \n",
    "    if acc>maxAcc:\n",
    "        maxAcc=acc\n",
    "        maxRS=i\n",
    "        print(\"R-square\",maxAcc,'Random state',i)"
   ]
  },
  {
   "cell_type": "code",
   "execution_count": 114,
   "id": "a8d2c9dc",
   "metadata": {},
   "outputs": [],
   "source": [
    "## we have best random state at 133\n",
    "x_train, x_test, y_train, y_test = train_test_split(x, y, test_size=0.2,\n",
    "                                                  random_state=78)"
   ]
  },
  {
   "cell_type": "code",
   "execution_count": 118,
   "id": "f534aad9",
   "metadata": {},
   "outputs": [],
   "source": [
    "from sklearn.linear_model import LogisticRegression\n",
    "logmodel = LogisticRegression()\n",
    "logmodel.fit(x_train,y_train)\n",
    "predictions = logmodel.predict(x_test)"
   ]
  },
  {
   "cell_type": "code",
   "execution_count": 119,
   "id": "e9c2e591",
   "metadata": {},
   "outputs": [
    {
     "data": {
      "text/plain": [
       "0.85625"
      ]
     },
     "execution_count": 119,
     "metadata": {},
     "output_type": "execute_result"
    }
   ],
   "source": [
    "from sklearn.metrics import classification_report, precision_score, recall_score, accuracy_score, f1_score, confusion_matrix,classification_report\n",
    "accuracy_score(y_test,predictions)"
   ]
  },
  {
   "cell_type": "code",
   "execution_count": 120,
   "id": "56ad03ab",
   "metadata": {},
   "outputs": [
    {
     "data": {
      "text/plain": [
       "0.9204152249134949"
      ]
     },
     "execution_count": 120,
     "metadata": {},
     "output_type": "execute_result"
    }
   ],
   "source": [
    "f1_score(y_test,predictions) "
   ]
  },
  {
   "cell_type": "code",
   "execution_count": 121,
   "id": "f098a277",
   "metadata": {},
   "outputs": [
    {
     "data": {
      "text/plain": [
       "array([[  8,  42],\n",
       "       [  4, 266]], dtype=int64)"
      ]
     },
     "execution_count": 121,
     "metadata": {},
     "output_type": "execute_result"
    }
   ],
   "source": [
    "confusion_matrix(y_test,predictions)"
   ]
  },
  {
   "cell_type": "code",
   "execution_count": 134,
   "id": "0c55d087",
   "metadata": {},
   "outputs": [
    {
     "name": "stdout",
     "output_type": "stream",
     "text": [
      "Fitting 5 folds for each of 30 candidates, totalling 150 fits\n"
     ]
    }
   ],
   "source": [
    "from sklearn.neighbors import KNeighborsClassifier,KNeighborsRegressor\n",
    "\n",
    "knn=KNeighborsClassifier()\n",
    "from sklearn.model_selection import GridSearchCV\n",
    "k_range = list(range(1, 31))\n",
    "param_grid = dict(n_neighbors=k_range)\n",
    "  \n",
    "# defining parameter range\n",
    "grid = GridSearchCV(knn, param_grid, scoring='accuracy',cv=5,verbose=1)\n",
    "  \n",
    "# fitting the model for grid search\n",
    "grid_search=grid.fit(x_train, y_train)\n"
   ]
  },
  {
   "cell_type": "code",
   "execution_count": 135,
   "id": "de93a8ba",
   "metadata": {},
   "outputs": [
    {
     "name": "stdout",
     "output_type": "stream",
     "text": [
      "{'n_neighbors': 26}\n"
     ]
    }
   ],
   "source": [
    "print(grid_search.best_params_)"
   ]
  },
  {
   "cell_type": "code",
   "execution_count": 136,
   "id": "4c76c94a",
   "metadata": {},
   "outputs": [
    {
     "name": "stdout",
     "output_type": "stream",
     "text": [
      "Accuracy for our training dataset with tuning is : 87.10%\n"
     ]
    }
   ],
   "source": [
    "accuracy = grid_search.best_score_ *100\n",
    "print(\"Accuracy for our training dataset with tuning is : {:.2f}%\".format(accuracy) )"
   ]
  },
  {
   "cell_type": "code",
   "execution_count": 137,
   "id": "a391c339",
   "metadata": {},
   "outputs": [
    {
     "data": {
      "text/plain": [
       "0.846875"
      ]
     },
     "execution_count": 137,
     "metadata": {},
     "output_type": "execute_result"
    }
   ],
   "source": [
    "knn.fit(x_train,y_train)\n",
    "pred=knn.predict(x_test)\n",
    "accuracy_score(y_test,pred) "
   ]
  },
  {
   "cell_type": "code",
   "execution_count": 138,
   "id": "31466015",
   "metadata": {},
   "outputs": [
    {
     "data": {
      "text/plain": [
       "array([[ 13,  37],\n",
       "       [ 12, 258]], dtype=int64)"
      ]
     },
     "execution_count": 138,
     "metadata": {},
     "output_type": "execute_result"
    }
   ],
   "source": [
    "confusion_matrix(y_test,pred)"
   ]
  },
  {
   "cell_type": "code",
   "execution_count": 139,
   "id": "1073088b",
   "metadata": {},
   "outputs": [
    {
     "name": "stdout",
     "output_type": "stream",
     "text": [
      "accuracy of the model is 92.19% \n"
     ]
    }
   ],
   "source": [
    "from sklearn.ensemble import RandomForestClassifier\n",
    "from sklearn import metrics \n",
    "from sklearn.metrics import accuracy_score\n",
    "RFC= RandomForestClassifier(n_estimators=200)\n",
    "RFC.fit(x_train, y_train)\n",
    "y_pred = RFC.predict(x_test)\n",
    "accuracy=accuracy_score(y_test,y_pred)\n",
    "print('accuracy of the model is {:.2f}% '.format(accuracy*100))"
   ]
  },
  {
   "cell_type": "code",
   "execution_count": 140,
   "id": "88cedb62",
   "metadata": {},
   "outputs": [
    {
     "name": "stdout",
     "output_type": "stream",
     "text": [
      "Fitting 5 folds for each of 20 candidates, totalling 100 fits\n",
      "[CV 1/5] END ..criterion=gini, max_depth=2, n_estimators=100; total time=   0.4s\n",
      "[CV 2/5] END ..criterion=gini, max_depth=2, n_estimators=100; total time=   0.4s\n",
      "[CV 3/5] END ..criterion=gini, max_depth=2, n_estimators=100; total time=   0.4s\n",
      "[CV 4/5] END ..criterion=gini, max_depth=2, n_estimators=100; total time=   0.3s\n",
      "[CV 5/5] END ..criterion=gini, max_depth=2, n_estimators=100; total time=   0.4s\n",
      "[CV 1/5] END ..criterion=gini, max_depth=2, n_estimators=200; total time=   0.6s\n",
      "[CV 2/5] END ..criterion=gini, max_depth=2, n_estimators=200; total time=   0.6s\n",
      "[CV 3/5] END ..criterion=gini, max_depth=2, n_estimators=200; total time=   0.9s\n",
      "[CV 4/5] END ..criterion=gini, max_depth=2, n_estimators=200; total time=   0.9s\n",
      "[CV 5/5] END ..criterion=gini, max_depth=2, n_estimators=200; total time=   0.7s\n",
      "[CV 1/5] END ..criterion=gini, max_depth=2, n_estimators=300; total time=   1.3s\n",
      "[CV 2/5] END ..criterion=gini, max_depth=2, n_estimators=300; total time=   1.3s\n",
      "[CV 3/5] END ..criterion=gini, max_depth=2, n_estimators=300; total time=   1.4s\n",
      "[CV 4/5] END ..criterion=gini, max_depth=2, n_estimators=300; total time=   1.4s\n",
      "[CV 5/5] END ..criterion=gini, max_depth=2, n_estimators=300; total time=   1.3s\n",
      "[CV 1/5] END ..criterion=gini, max_depth=2, n_estimators=500; total time=   2.4s\n",
      "[CV 2/5] END ..criterion=gini, max_depth=2, n_estimators=500; total time=   2.4s\n",
      "[CV 3/5] END ..criterion=gini, max_depth=2, n_estimators=500; total time=   1.8s\n",
      "[CV 4/5] END ..criterion=gini, max_depth=2, n_estimators=500; total time=   1.7s\n",
      "[CV 5/5] END ..criterion=gini, max_depth=2, n_estimators=500; total time=   2.0s\n",
      "[CV 1/5] END .criterion=gini, max_depth=2, n_estimators=1000; total time=   3.8s\n",
      "[CV 2/5] END .criterion=gini, max_depth=2, n_estimators=1000; total time=   2.5s\n",
      "[CV 3/5] END .criterion=gini, max_depth=2, n_estimators=1000; total time=   1.8s\n",
      "[CV 4/5] END .criterion=gini, max_depth=2, n_estimators=1000; total time=   1.8s\n",
      "[CV 5/5] END .criterion=gini, max_depth=2, n_estimators=1000; total time=   1.8s\n",
      "[CV 1/5] END ..criterion=gini, max_depth=3, n_estimators=100; total time=   0.1s\n",
      "[CV 2/5] END ..criterion=gini, max_depth=3, n_estimators=100; total time=   0.1s\n",
      "[CV 3/5] END ..criterion=gini, max_depth=3, n_estimators=100; total time=   0.1s\n",
      "[CV 4/5] END ..criterion=gini, max_depth=3, n_estimators=100; total time=   0.1s\n",
      "[CV 5/5] END ..criterion=gini, max_depth=3, n_estimators=100; total time=   0.1s\n",
      "[CV 1/5] END ..criterion=gini, max_depth=3, n_estimators=200; total time=   0.3s\n",
      "[CV 2/5] END ..criterion=gini, max_depth=3, n_estimators=200; total time=   0.3s\n",
      "[CV 3/5] END ..criterion=gini, max_depth=3, n_estimators=200; total time=   0.3s\n",
      "[CV 4/5] END ..criterion=gini, max_depth=3, n_estimators=200; total time=   0.3s\n",
      "[CV 5/5] END ..criterion=gini, max_depth=3, n_estimators=200; total time=   0.4s\n",
      "[CV 1/5] END ..criterion=gini, max_depth=3, n_estimators=300; total time=   0.5s\n",
      "[CV 2/5] END ..criterion=gini, max_depth=3, n_estimators=300; total time=   0.5s\n",
      "[CV 3/5] END ..criterion=gini, max_depth=3, n_estimators=300; total time=   0.5s\n",
      "[CV 4/5] END ..criterion=gini, max_depth=3, n_estimators=300; total time=   0.5s\n",
      "[CV 5/5] END ..criterion=gini, max_depth=3, n_estimators=300; total time=   0.6s\n",
      "[CV 1/5] END ..criterion=gini, max_depth=3, n_estimators=500; total time=   0.9s\n",
      "[CV 2/5] END ..criterion=gini, max_depth=3, n_estimators=500; total time=   0.9s\n",
      "[CV 3/5] END ..criterion=gini, max_depth=3, n_estimators=500; total time=   0.9s\n",
      "[CV 4/5] END ..criterion=gini, max_depth=3, n_estimators=500; total time=   0.9s\n",
      "[CV 5/5] END ..criterion=gini, max_depth=3, n_estimators=500; total time=   0.9s\n",
      "[CV 1/5] END .criterion=gini, max_depth=3, n_estimators=1000; total time=   1.9s\n",
      "[CV 2/5] END .criterion=gini, max_depth=3, n_estimators=1000; total time=   2.0s\n",
      "[CV 3/5] END .criterion=gini, max_depth=3, n_estimators=1000; total time=   2.0s\n",
      "[CV 4/5] END .criterion=gini, max_depth=3, n_estimators=1000; total time=   1.9s\n",
      "[CV 5/5] END .criterion=gini, max_depth=3, n_estimators=1000; total time=   2.0s\n",
      "[CV 1/5] END criterion=entropy, max_depth=2, n_estimators=100; total time=   0.1s\n",
      "[CV 2/5] END criterion=entropy, max_depth=2, n_estimators=100; total time=   0.1s\n",
      "[CV 3/5] END criterion=entropy, max_depth=2, n_estimators=100; total time=   0.1s\n",
      "[CV 4/5] END criterion=entropy, max_depth=2, n_estimators=100; total time=   0.1s\n",
      "[CV 5/5] END criterion=entropy, max_depth=2, n_estimators=100; total time=   0.1s\n",
      "[CV 1/5] END criterion=entropy, max_depth=2, n_estimators=200; total time=   0.3s\n",
      "[CV 2/5] END criterion=entropy, max_depth=2, n_estimators=200; total time=   0.3s\n",
      "[CV 3/5] END criterion=entropy, max_depth=2, n_estimators=200; total time=   0.3s\n",
      "[CV 4/5] END criterion=entropy, max_depth=2, n_estimators=200; total time=   0.3s\n",
      "[CV 5/5] END criterion=entropy, max_depth=2, n_estimators=200; total time=   0.3s\n",
      "[CV 1/5] END criterion=entropy, max_depth=2, n_estimators=300; total time=   0.5s\n",
      "[CV 2/5] END criterion=entropy, max_depth=2, n_estimators=300; total time=   0.5s\n",
      "[CV 3/5] END criterion=entropy, max_depth=2, n_estimators=300; total time=   0.5s\n",
      "[CV 4/5] END criterion=entropy, max_depth=2, n_estimators=300; total time=   0.5s\n",
      "[CV 5/5] END criterion=entropy, max_depth=2, n_estimators=300; total time=   0.5s\n",
      "[CV 1/5] END criterion=entropy, max_depth=2, n_estimators=500; total time=   0.9s\n",
      "[CV 2/5] END criterion=entropy, max_depth=2, n_estimators=500; total time=   0.9s\n",
      "[CV 3/5] END criterion=entropy, max_depth=2, n_estimators=500; total time=   0.9s\n",
      "[CV 4/5] END criterion=entropy, max_depth=2, n_estimators=500; total time=   0.9s\n",
      "[CV 5/5] END criterion=entropy, max_depth=2, n_estimators=500; total time=   0.9s\n",
      "[CV 1/5] END criterion=entropy, max_depth=2, n_estimators=1000; total time=   1.9s\n",
      "[CV 2/5] END criterion=entropy, max_depth=2, n_estimators=1000; total time=   1.9s\n",
      "[CV 3/5] END criterion=entropy, max_depth=2, n_estimators=1000; total time=   1.9s\n",
      "[CV 4/5] END criterion=entropy, max_depth=2, n_estimators=1000; total time=   1.9s\n",
      "[CV 5/5] END criterion=entropy, max_depth=2, n_estimators=1000; total time=   2.0s\n",
      "[CV 1/5] END criterion=entropy, max_depth=3, n_estimators=100; total time=   0.1s\n",
      "[CV 2/5] END criterion=entropy, max_depth=3, n_estimators=100; total time=   0.1s\n",
      "[CV 3/5] END criterion=entropy, max_depth=3, n_estimators=100; total time=   0.2s\n",
      "[CV 4/5] END criterion=entropy, max_depth=3, n_estimators=100; total time=   0.2s\n",
      "[CV 5/5] END criterion=entropy, max_depth=3, n_estimators=100; total time=   0.1s\n",
      "[CV 1/5] END criterion=entropy, max_depth=3, n_estimators=200; total time=   0.3s\n",
      "[CV 2/5] END criterion=entropy, max_depth=3, n_estimators=200; total time=   0.3s\n",
      "[CV 3/5] END criterion=entropy, max_depth=3, n_estimators=200; total time=   0.4s\n",
      "[CV 4/5] END criterion=entropy, max_depth=3, n_estimators=200; total time=   0.4s\n",
      "[CV 5/5] END criterion=entropy, max_depth=3, n_estimators=200; total time=   0.4s\n",
      "[CV 1/5] END criterion=entropy, max_depth=3, n_estimators=300; total time=   0.6s\n",
      "[CV 2/5] END criterion=entropy, max_depth=3, n_estimators=300; total time=   0.6s\n",
      "[CV 3/5] END criterion=entropy, max_depth=3, n_estimators=300; total time=   0.7s\n",
      "[CV 4/5] END criterion=entropy, max_depth=3, n_estimators=300; total time=   0.6s\n",
      "[CV 5/5] END criterion=entropy, max_depth=3, n_estimators=300; total time=   0.6s\n",
      "[CV 1/5] END criterion=entropy, max_depth=3, n_estimators=500; total time=   1.0s\n",
      "[CV 2/5] END criterion=entropy, max_depth=3, n_estimators=500; total time=   1.0s\n",
      "[CV 3/5] END criterion=entropy, max_depth=3, n_estimators=500; total time=   1.0s\n",
      "[CV 4/5] END criterion=entropy, max_depth=3, n_estimators=500; total time=   1.0s\n",
      "[CV 5/5] END criterion=entropy, max_depth=3, n_estimators=500; total time=   1.0s\n",
      "[CV 1/5] END criterion=entropy, max_depth=3, n_estimators=1000; total time=   2.1s\n",
      "[CV 2/5] END criterion=entropy, max_depth=3, n_estimators=1000; total time=   2.1s\n",
      "[CV 3/5] END criterion=entropy, max_depth=3, n_estimators=1000; total time=   2.1s\n",
      "[CV 4/5] END criterion=entropy, max_depth=3, n_estimators=1000; total time=   2.2s\n",
      "[CV 5/5] END criterion=entropy, max_depth=3, n_estimators=1000; total time=   2.2s\n"
     ]
    },
    {
     "name": "stdout",
     "output_type": "stream",
     "text": [
      "{'criterion': 'entropy', 'max_depth': 3, 'n_estimators': 300}\n"
     ]
    }
   ],
   "source": [
    "from sklearn.ensemble import RandomForestClassifier\n",
    "RF = RandomForestClassifier()\n",
    " \n",
    "# Parameters to try\n",
    "Parameter_Trials={'n_estimators':[100,200,300,500,1000],\n",
    "                  'criterion':['gini','entropy'],\n",
    "                  'max_depth': [2,3]}\n",
    " \n",
    "Grid_Search = GridSearchCV(RF, Parameter_Trials, cv=5, n_jobs=1, verbose=5)\n",
    "GridSearchResults=Grid_Search.fit(x,y)\n",
    "print(GridSearchResults.best_params_)"
   ]
  },
  {
   "cell_type": "code",
   "execution_count": 142,
   "id": "dca31930",
   "metadata": {},
   "outputs": [
    {
     "name": "stdout",
     "output_type": "stream",
     "text": [
      "Accuracy for our training dataset with tuning is : 87.62%\n"
     ]
    }
   ],
   "source": [
    "accuracy = GridSearchResults.best_score_ *100\n",
    "print(\"Accuracy for our training dataset with tuning is : {:.2f}%\".format(accuracy) )"
   ]
  },
  {
   "cell_type": "code",
   "execution_count": 143,
   "id": "5d3f470c",
   "metadata": {},
   "outputs": [
    {
     "data": {
      "text/plain": [
       "0.925"
      ]
     },
     "execution_count": 143,
     "metadata": {},
     "output_type": "execute_result"
    }
   ],
   "source": [
    "RF.fit(x_train,y_train)\n",
    "pred=RF.predict(x_test)\n",
    "accuracy_score(y_test,pred) "
   ]
  },
  {
   "cell_type": "code",
   "execution_count": 144,
   "id": "6f6d565c",
   "metadata": {},
   "outputs": [
    {
     "data": {
      "text/plain": [
       "array([[ 27,  23],\n",
       "       [  1, 269]], dtype=int64)"
      ]
     },
     "execution_count": 144,
     "metadata": {},
     "output_type": "execute_result"
    }
   ],
   "source": [
    "confusion_matrix(y_test,pred)"
   ]
  },
  {
   "cell_type": "code",
   "execution_count": 145,
   "id": "91a24aed",
   "metadata": {},
   "outputs": [
    {
     "name": "stdout",
     "output_type": "stream",
     "text": [
      "Wall time: 16 ms\n"
     ]
    }
   ],
   "source": [
    "%%time\n",
    "import pickle\n",
    "# # saved the trained model in file with given name\n",
    "pickle_out = open(\"wine.pickle\",\"wb\") # name of my pickle file , wb -write\n",
    "pickle.dump(RF, pickle_out)\n",
    "pickle_out.close()"
   ]
  },
  {
   "cell_type": "code",
   "execution_count": 147,
   "id": "fbaeb654",
   "metadata": {},
   "outputs": [
    {
     "data": {
      "text/plain": [
       "array([1, 1, 1, 1, 1, 1, 1, 1, 1, 1, 1, 1, 1, 1, 1, 1, 1, 1, 0, 1, 1, 1,\n",
       "       1, 1, 1, 1, 1, 1, 1, 1, 1, 1, 0, 0, 1, 1, 1, 1, 1, 1, 1, 1, 0, 0,\n",
       "       1, 1, 1, 1, 1, 1, 1, 1, 1, 1, 1, 1, 0, 1, 1, 1, 1, 1, 1, 1, 1, 1,\n",
       "       1, 1, 1, 1, 1, 1, 0, 0, 1, 1, 1, 1, 1, 1, 1, 1, 0, 0, 1, 1, 1, 0,\n",
       "       1, 1, 1, 1, 1, 1, 1, 1, 1, 1, 1, 1, 1, 1, 1, 1, 1, 1, 0, 1, 1, 1,\n",
       "       1, 1, 0, 1, 1, 1, 1, 1, 1, 1, 1, 1, 0, 1, 1, 1, 1, 1, 1, 1, 1, 1,\n",
       "       1, 1, 1, 1, 1, 1, 1, 1, 1, 1, 1, 1, 1, 1, 0, 1, 1, 1, 1, 1, 1, 1,\n",
       "       1, 1, 1, 0, 1, 1, 1, 1, 1, 1, 1, 1, 1, 1, 1, 1, 1, 1, 1, 1, 0, 1,\n",
       "       1, 1, 1, 1, 1, 1, 1, 1, 1, 1, 0, 1, 1, 1, 1, 1, 1, 1, 1, 1, 1, 1,\n",
       "       1, 1, 0, 1, 1, 1, 1, 0, 1, 1, 1, 1, 1, 1, 1, 1, 1, 1, 1, 0, 1, 1,\n",
       "       1, 1, 1, 1, 1, 1, 1, 1, 1, 1, 1, 0, 1, 1, 1, 1, 1, 1, 1, 0, 1, 1,\n",
       "       1, 1, 1, 1, 1, 1, 1, 1, 1, 1, 1, 1, 1, 1, 1, 1, 1, 1, 1, 1, 1, 1,\n",
       "       1, 1, 1, 1, 1, 1, 1, 1, 1, 1, 1, 1, 1, 0, 1, 1, 1, 1, 1, 1, 1, 1,\n",
       "       0, 1, 1, 1, 1, 1, 1, 1, 1, 0, 1, 0, 1, 1, 1, 1, 1, 1, 1, 1, 1, 1,\n",
       "       1, 1, 1, 1, 1, 0, 1, 1, 1, 1, 1, 1])"
      ]
     },
     "execution_count": 147,
     "metadata": {},
     "output_type": "execute_result"
    }
   ],
   "source": [
    "# loading the pickeled model\n",
    "pickle_in = open(\"wine.pickle\",\"rb\") # rb -> read the pickel file\n",
    "trained_model = pickle.load(pickle_in)\n",
    "trained_model.predict(x_test)"
   ]
  },
  {
   "cell_type": "code",
   "execution_count": null,
   "id": "3cf0f91c",
   "metadata": {},
   "outputs": [],
   "source": []
  }
 ],
 "metadata": {
  "kernelspec": {
   "display_name": "Python 3",
   "language": "python",
   "name": "python3"
  },
  "language_info": {
   "codemirror_mode": {
    "name": "ipython",
    "version": 3
   },
   "file_extension": ".py",
   "mimetype": "text/x-python",
   "name": "python",
   "nbconvert_exporter": "python",
   "pygments_lexer": "ipython3",
   "version": "3.8.8"
  }
 },
 "nbformat": 4,
 "nbformat_minor": 5
}
