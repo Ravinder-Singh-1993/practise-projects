{
 "cells": [
  {
   "cell_type": "code",
   "execution_count": 1,
   "id": "7b230ad1",
   "metadata": {},
   "outputs": [],
   "source": [
    "# libararies to be used\n",
    "import warnings\n",
    "warnings.filterwarnings(\"ignore\")\n",
    "import pandas as pd\n",
    "import numpy as np\n",
    "import matplotlib.pyplot as plt\n",
    "import seaborn as sns"
   ]
  },
  {
   "cell_type": "code",
   "execution_count": 2,
   "id": "3b89fe74",
   "metadata": {},
   "outputs": [],
   "source": [
    "#read the data\n",
    "data=pd.read_csv(\"https://raw.githubusercontent.com/dsrscientist/DSData/master/Advertising.csv\")"
   ]
  },
  {
   "cell_type": "code",
   "execution_count": 3,
   "id": "4839ef2c",
   "metadata": {},
   "outputs": [
    {
     "data": {
      "text/plain": [
       "Unnamed: 0    200\n",
       "TV            190\n",
       "radio         167\n",
       "newspaper     172\n",
       "sales         121\n",
       "dtype: int64"
      ]
     },
     "execution_count": 3,
     "metadata": {},
     "output_type": "execute_result"
    }
   ],
   "source": [
    "data.apply(lambda x: len(x.unique()))"
   ]
  },
  {
   "cell_type": "code",
   "execution_count": 4,
   "id": "27622b24",
   "metadata": {},
   "outputs": [
    {
     "data": {
      "text/plain": [
       "Unnamed: 0    0\n",
       "TV            0\n",
       "radio         0\n",
       "newspaper     0\n",
       "sales         0\n",
       "dtype: int64"
      ]
     },
     "execution_count": 4,
     "metadata": {},
     "output_type": "execute_result"
    }
   ],
   "source": [
    "data.isnull().sum()"
   ]
  },
  {
   "cell_type": "code",
   "execution_count": 5,
   "id": "6e20d5eb",
   "metadata": {},
   "outputs": [
    {
     "data": {
      "text/html": [
       "<div>\n",
       "<style scoped>\n",
       "    .dataframe tbody tr th:only-of-type {\n",
       "        vertical-align: middle;\n",
       "    }\n",
       "\n",
       "    .dataframe tbody tr th {\n",
       "        vertical-align: top;\n",
       "    }\n",
       "\n",
       "    .dataframe thead th {\n",
       "        text-align: right;\n",
       "    }\n",
       "</style>\n",
       "<table border=\"1\" class=\"dataframe\">\n",
       "  <thead>\n",
       "    <tr style=\"text-align: right;\">\n",
       "      <th></th>\n",
       "      <th>Unnamed: 0</th>\n",
       "      <th>TV</th>\n",
       "      <th>radio</th>\n",
       "      <th>newspaper</th>\n",
       "      <th>sales</th>\n",
       "    </tr>\n",
       "  </thead>\n",
       "  <tbody>\n",
       "    <tr>\n",
       "      <th>0</th>\n",
       "      <td>1</td>\n",
       "      <td>230.1</td>\n",
       "      <td>37.8</td>\n",
       "      <td>69.2</td>\n",
       "      <td>22.1</td>\n",
       "    </tr>\n",
       "    <tr>\n",
       "      <th>1</th>\n",
       "      <td>2</td>\n",
       "      <td>44.5</td>\n",
       "      <td>39.3</td>\n",
       "      <td>45.1</td>\n",
       "      <td>10.4</td>\n",
       "    </tr>\n",
       "    <tr>\n",
       "      <th>2</th>\n",
       "      <td>3</td>\n",
       "      <td>17.2</td>\n",
       "      <td>45.9</td>\n",
       "      <td>69.3</td>\n",
       "      <td>9.3</td>\n",
       "    </tr>\n",
       "    <tr>\n",
       "      <th>3</th>\n",
       "      <td>4</td>\n",
       "      <td>151.5</td>\n",
       "      <td>41.3</td>\n",
       "      <td>58.5</td>\n",
       "      <td>18.5</td>\n",
       "    </tr>\n",
       "    <tr>\n",
       "      <th>4</th>\n",
       "      <td>5</td>\n",
       "      <td>180.8</td>\n",
       "      <td>10.8</td>\n",
       "      <td>58.4</td>\n",
       "      <td>12.9</td>\n",
       "    </tr>\n",
       "  </tbody>\n",
       "</table>\n",
       "</div>"
      ],
      "text/plain": [
       "   Unnamed: 0     TV  radio  newspaper  sales\n",
       "0           1  230.1   37.8       69.2   22.1\n",
       "1           2   44.5   39.3       45.1   10.4\n",
       "2           3   17.2   45.9       69.3    9.3\n",
       "3           4  151.5   41.3       58.5   18.5\n",
       "4           5  180.8   10.8       58.4   12.9"
      ]
     },
     "execution_count": 5,
     "metadata": {},
     "output_type": "execute_result"
    }
   ],
   "source": [
    "data.head()"
   ]
  },
  {
   "cell_type": "code",
   "execution_count": 7,
   "id": "d9a60395",
   "metadata": {},
   "outputs": [],
   "source": [
    "##Eda"
   ]
  },
  {
   "cell_type": "code",
   "execution_count": 7,
   "id": "1fbedc13",
   "metadata": {},
   "outputs": [
    {
     "data": {
      "image/png": "[encoded data removed]",
      "text/plain": [
       "<Figure size 432x288 with 1 Axes>"
      ]
     },
     "metadata": {
      "needs_background": "light"
     },
     "output_type": "display_data"
    }
   ],
   "source": [
    "plt.scatter(data[\"sales\"], data['TV'])\n",
    "plt.xlabel(\"Sales\")\n",
    "plt.ylabel(\"TV\")\n",
    "plt.show()"
   ]
  },
  {
   "cell_type": "code",
   "execution_count": 8,
   "id": "77234ae5",
   "metadata": {},
   "outputs": [
    {
     "data": {
      "image/png": "[encoded data removed]",
      "text/plain": [
       "<Figure size 432x288 with 1 Axes>"
      ]
     },
     "metadata": {
      "needs_background": "light"
     },
     "output_type": "display_data"
    }
   ],
   "source": [
    "plt.scatter(data[\"sales\"], data['radio'])\n",
    "plt.xlabel(\"Sales\")\n",
    "plt.ylabel(\"Radio\")\n",
    "plt.show()"
   ]
  },
  {
   "cell_type": "code",
   "execution_count": 9,
   "id": "655cb7bc",
   "metadata": {},
   "outputs": [
    {
     "data": {
      "image/png": "[encoded data removed]",
      "text/plain": [
       "<Figure size 432x288 with 1 Axes>"
      ]
     },
     "metadata": {
      "needs_background": "light"
     },
     "output_type": "display_data"
    }
   ],
   "source": [
    "plt.scatter(data[\"sales\"], data['newspaper'])\n",
    "plt.xlabel(\"Sales\")\n",
    "plt.ylabel(\"News\")\n",
    "plt.show()"
   ]
  },
  {
   "cell_type": "code",
   "execution_count": 12,
   "id": "924181cc",
   "metadata": {},
   "outputs": [
    {
     "name": "stdout",
     "output_type": "stream",
     "text": [
      "R-square 0.8246402101734609 Random state 0 Size 0.2\n",
      "R-square 0.8774015580211038 Random state 1 Size 0.25\n",
      "R-square 0.8997132869382614 Random state 1 Size 0.3\n",
      "R-square 0.9092369970255348 Random state 3 Size 0.2\n",
      "R-square 0.9221422888083269 Random state 6 Size 0.2\n",
      "R-square 0.9339568579758697 Random state 13 Size 0.3\n",
      "R-square 0.9369490251303776 Random state 33 Size 0.3\n",
      "R-square 0.951484409477648 Random state 57 Size 0.2\n",
      "R-square 0.9570006806212352 Random state 151 Size 0.2\n"
     ]
    }
   ],
   "source": [
    "from sklearn import datasets, linear_model, metrics\n",
    "from sklearn import preprocessing\n",
    "from sklearn.preprocessing import StandardScaler\n",
    "from sklearn.model_selection import train_test_split\n",
    "from sklearn.linear_model import LinearRegression\n",
    "x=data.drop('sales',axis=1)\n",
    "y=data['sales']\n",
    "from sklearn.metrics import r2_score\n",
    "maxAcc=0\n",
    "maxRS=0\n",
    "l=[0.2,0.25,0.3]\n",
    "for i in range(200):\n",
    "    for j in l:\n",
    "        x_train, x_test, y_train, y_test = train_test_split(x, y, test_size=j,\n",
    "                                                        random_state=i)\n",
    "        SC=StandardScaler()\n",
    "        x_train = SC.fit_transform(x_train)\n",
    "        x_test = SC.fit_transform(x_test)\n",
    "        model=LinearRegression()\n",
    "        model.fit(x_train,y_train)\n",
    "        pred= model.predict(x_test)\n",
    "        acc=r2_score(y_test,pred)\n",
    "\n",
    "        if acc>maxAcc:\n",
    "            maxAcc=acc\n",
    "            maxRS=i\n",
    "            print(\"R-square\",maxAcc,'Random state',i,\"Size\",j)"
   ]
  },
  {
   "cell_type": "code",
   "execution_count": 14,
   "id": "4e206fc4",
   "metadata": {},
   "outputs": [],
   "source": [
    "x_train, x_test, y_train, y_test= train_test_split(x, y, test_size = 0.2, random_state =151)\n",
    "linearRegressor = LinearRegression() "
   ]
  },
  {
   "cell_type": "code",
   "execution_count": 15,
   "id": "1fa1b897",
   "metadata": {},
   "outputs": [
    {
     "data": {
      "text/plain": [
       "2.8102813925931827"
      ]
     },
     "execution_count": 15,
     "metadata": {},
     "output_type": "execute_result"
    }
   ],
   "source": [
    "linearRegressor.fit(x_train, y_train)\n",
    "linearRegressor.intercept_"
   ]
  },
  {
   "cell_type": "code",
   "execution_count": 16,
   "id": "7bc16583",
   "metadata": {},
   "outputs": [
    {
     "data": {
      "text/plain": [
       "array([ 7.27680194, 12.05612052, 12.51746696,  9.77520881, 10.73610552,\n",
       "       19.85519734, 22.83523806,  4.32212067,  8.9455786 ,  3.60449061,\n",
       "       12.04952342, 14.70881008,  6.29105602, 15.27626738, 18.16667733,\n",
       "       10.40460407, 19.19918477,  9.66899045, 17.04939085, 17.28147699,\n",
       "       12.45124657, 24.08300287, 16.92522133, 23.16745652, 18.26083969,\n",
       "        8.02916795, 17.83079285,  3.41452707, 17.22200368,  8.72558597,\n",
       "       12.74164394, 14.54871681,  9.84817906, 12.58536798, 18.97628445,\n",
       "       19.38685331,  4.2930151 , 20.37576645, 19.97342667, 16.82354949])"
      ]
     },
     "execution_count": 16,
     "metadata": {},
     "output_type": "execute_result"
    }
   ],
   "source": [
    "yPrediction = linearRegressor.predict(x_test)\n",
    "yPrediction"
   ]
  },
  {
   "cell_type": "code",
   "execution_count": 17,
   "id": "5bc2bc78",
   "metadata": {},
   "outputs": [
    {
     "data": {
      "text/plain": [
       "2.736105517833101"
      ]
     },
     "execution_count": 17,
     "metadata": {},
     "output_type": "execute_result"
    }
   ],
   "source": [
    "from sklearn.metrics import max_error\n",
    "max_error(y_test,yPrediction)"
   ]
  },
  {
   "cell_type": "code",
   "execution_count": 18,
   "id": "be5538ff",
   "metadata": {},
   "outputs": [
    {
     "data": {
      "text/plain": [
       "0.9650131060159659"
      ]
     },
     "execution_count": 18,
     "metadata": {},
     "output_type": "execute_result"
    }
   ],
   "source": [
    "from sklearn.metrics import mean_absolute_error\n",
    "mean_absolute_error(y_test,yPrediction)"
   ]
  },
  {
   "cell_type": "code",
   "execution_count": 19,
   "id": "0ae7979f",
   "metadata": {},
   "outputs": [
    {
     "data": {
      "text/plain": [
       "1.4613559347419973"
      ]
     },
     "execution_count": 19,
     "metadata": {},
     "output_type": "execute_result"
    }
   ],
   "source": [
    "from sklearn.metrics import mean_squared_error\n",
    "mean_squared_error(y_test,yPrediction)"
   ]
  },
  {
   "cell_type": "code",
   "execution_count": 20,
   "id": "8a2bedd3",
   "metadata": {},
   "outputs": [
    {
     "data": {
      "text/plain": [
       "0.9526488497301869"
      ]
     },
     "execution_count": 20,
     "metadata": {},
     "output_type": "execute_result"
    }
   ],
   "source": [
    "from sklearn.metrics import r2_score\n",
    "r2_score(y_test,yPrediction)"
   ]
  },
  {
   "cell_type": "code",
   "execution_count": 22,
   "id": "2c6ff615",
   "metadata": {},
   "outputs": [
    {
     "name": "stdout",
     "output_type": "stream",
     "text": [
      "R-square 0.8564831550191528 Random state 0 test size 0.2\n",
      "R-square 0.8621284843128437 Random state 0 test size 0.3\n",
      "R-square 0.892872305920994 Random state 1 test size 0.2\n",
      "R-square 0.9157085278965105 Random state 1 test size 0.25\n",
      "R-square 0.9225153486429136 Random state 1 test size 0.3\n",
      "R-square 0.9254791402290821 Random state 9 test size 0.2\n",
      "R-square 0.9305859975316492 Random state 13 test size 0.2\n",
      "R-square 0.9326673522978403 Random state 13 test size 0.25\n",
      "R-square 0.9332792654862525 Random state 13 test size 0.3\n",
      "R-square 0.9408105759296913 Random state 57 test size 0.2\n",
      "R-square 0.9509824829166718 Random state 92 test size 0.2\n",
      "R-square 0.9526497047453708 Random state 151 test size 0.2\n"
     ]
    }
   ],
   "source": [
    "from sklearn.model_selection import GridSearchCV\n",
    "from sklearn.linear_model import Ridge\n",
    "from sklearn.metrics import r2_score\n",
    "maxAcc=0\n",
    "maxRS=0\n",
    "l=[0.2,0.25,0.3]\n",
    "for i in range(200):\n",
    "    for j in l:\n",
    "        x_train, x_test, y_train, y_test = train_test_split(x,y, test_size=j,\n",
    "                                                    random_state=i)\n",
    "        ridge = Ridge()\n",
    "        ridge.fit(x_train,y_train)\n",
    "        pred= ridge.predict(x_test)\n",
    "        acc=r2_score(y_test,pred)\n",
    "    \n",
    "        if acc>maxAcc:\n",
    "            maxAcc=acc\n",
    "            maxRS=i\n",
    "            print(\"R-square\",maxAcc,'Random state',i,'test size',j)"
   ]
  },
  {
   "cell_type": "code",
   "execution_count": 24,
   "id": "dd46bf98",
   "metadata": {},
   "outputs": [
    {
     "data": {
      "text/plain": [
       "GridSearchCV(cv=5, estimator=Ridge(),\n",
       "             param_grid={'alpha': [1e-15, 1e-10, 1e-08, 0.001, 0.01, 1, 5, 10,\n",
       "                                   20, 30, 35, 40, 45, 50, 55, 100]},\n",
       "             scoring='neg_mean_squared_error')"
      ]
     },
     "execution_count": 24,
     "metadata": {},
     "output_type": "execute_result"
    }
   ],
   "source": [
    "# Ridge Regression\n",
    "ridge = Ridge()\n",
    "\n",
    "parameters = {\"alpha\":[1e-15,1e-10,1e-8,1e-3,1e-2,1,5,10,20,30,35,40,45,50,55,100]}\n",
    "ridge_regression = GridSearchCV(ridge, parameters, scoring='neg_mean_squared_error', cv=5)\n",
    "\n",
    "\n",
    "x_train, x_test, y_train, y_test= train_test_split(x,y, test_size = 0.2, random_state = 151)\n",
    "\n",
    "ridge_regression.fit(x_train, y_train)"
   ]
  },
  {
   "cell_type": "code",
   "execution_count": 25,
   "id": "28f176ae",
   "metadata": {},
   "outputs": [
    {
     "name": "stdout",
     "output_type": "stream",
     "text": [
      "{'alpha': 10}\n",
      "-3.298357669424237\n"
     ]
    }
   ],
   "source": [
    "print(ridge_regression.best_params_)\n",
    "print(ridge_regression.best_score_)"
   ]
  },
  {
   "cell_type": "code",
   "execution_count": 26,
   "id": "911b20b8",
   "metadata": {},
   "outputs": [],
   "source": [
    "# prediction\n",
    "ridge_pred = ridge_regression.predict(x_test)\n",
    "ridge_pred = pd.DataFrame(ridge_pred, columns=['Predictions'])"
   ]
  },
  {
   "cell_type": "code",
   "execution_count": 27,
   "id": "83189dd2",
   "metadata": {},
   "outputs": [
    {
     "data": {
      "text/plain": [
       "2.7350565688677655"
      ]
     },
     "execution_count": 27,
     "metadata": {},
     "output_type": "execute_result"
    }
   ],
   "source": [
    "from sklearn.metrics import max_error\n",
    "max_error(y_test,ridge_pred )"
   ]
  },
  {
   "cell_type": "code",
   "execution_count": 28,
   "id": "738e1f97",
   "metadata": {},
   "outputs": [
    {
     "data": {
      "text/plain": [
       "0.9526573746866124"
      ]
     },
     "execution_count": 28,
     "metadata": {},
     "output_type": "execute_result"
    }
   ],
   "source": [
    "r2_score(y_test,ridge_pred)"
   ]
  },
  {
   "cell_type": "code",
   "execution_count": 29,
   "id": "8c38acf7",
   "metadata": {},
   "outputs": [
    {
     "data": {
      "text/plain": [
       "0.9650459257278197"
      ]
     },
     "execution_count": 29,
     "metadata": {},
     "output_type": "execute_result"
    }
   ],
   "source": [
    "from sklearn.metrics import mean_absolute_error\n",
    "mean_absolute_error(y_test,ridge_pred )"
   ]
  },
  {
   "cell_type": "code",
   "execution_count": 30,
   "id": "87f6b805",
   "metadata": {},
   "outputs": [
    {
     "data": {
      "text/plain": [
       "1.461092836684299"
      ]
     },
     "execution_count": 30,
     "metadata": {},
     "output_type": "execute_result"
    }
   ],
   "source": [
    "from sklearn.metrics import mean_squared_error\n",
    "mean_squared_error(y_test,ridge_pred)"
   ]
  },
  {
   "cell_type": "code",
   "execution_count": 31,
   "id": "03d664e8",
   "metadata": {},
   "outputs": [],
   "source": [
    "from sklearn.linear_model import Lasso"
   ]
  },
  {
   "cell_type": "code",
   "execution_count": 32,
   "id": "f50c9091",
   "metadata": {},
   "outputs": [
    {
     "name": "stdout",
     "output_type": "stream",
     "text": [
      "{'alpha': 1}\n",
      "-3.274170164693591\n"
     ]
    }
   ],
   "source": [
    "lasso = Lasso()\n",
    "parameters = {\"alpha\":[1e-15,1e-10,1e-8,1e-3,1e-2,1,5,10,20,30,35,40,45,50,55,100]}\n",
    "lasso_regression = GridSearchCV(lasso, parameters, scoring='neg_mean_squared_error', cv=5)\n",
    "lasso_regression.fit(x_train, y_train)\n",
    "\n",
    "print(lasso_regression.best_params_)\n",
    "print(lasso_regression.best_score_)"
   ]
  },
  {
   "cell_type": "code",
   "execution_count": 33,
   "id": "04dd47a8",
   "metadata": {},
   "outputs": [],
   "source": [
    "lasso_pred = lasso_regression.predict(x_test)"
   ]
  },
  {
   "cell_type": "code",
   "execution_count": 34,
   "id": "1b1f4cbf",
   "metadata": {},
   "outputs": [
    {
     "data": {
      "text/plain": [
       "1.4283657808243895"
      ]
     },
     "execution_count": 34,
     "metadata": {},
     "output_type": "execute_result"
    }
   ],
   "source": [
    "from sklearn.metrics import mean_squared_error\n",
    "mean_squared_error(y_test,lasso_pred)"
   ]
  },
  {
   "cell_type": "code",
   "execution_count": 35,
   "id": "1bf2851a",
   "metadata": {},
   "outputs": [
    {
     "data": {
      "text/plain": [
       "0.9537178033632063"
      ]
     },
     "execution_count": 35,
     "metadata": {},
     "output_type": "execute_result"
    }
   ],
   "source": [
    "from sklearn.metrics import r2_score\n",
    "r2_score(y_test,lasso_pred)"
   ]
  },
  {
   "cell_type": "code",
   "execution_count": 36,
   "id": "fb8231c5",
   "metadata": {},
   "outputs": [
    {
     "data": {
      "text/plain": [
       "GridSearchCV(cv=5, estimator=RandomForestRegressor(), n_jobs=-1,\n",
       "             param_grid={'bootstrap': [True], 'max_depth': [5, 7, 9],\n",
       "                         'max_features': ['auto'],\n",
       "                         'n_estimators': [800, 1000, 1200]})"
      ]
     },
     "execution_count": 36,
     "metadata": {},
     "output_type": "execute_result"
    }
   ],
   "source": [
    "from sklearn.model_selection import train_test_split\n",
    "from sklearn.model_selection import GridSearchCV\n",
    "from sklearn.ensemble import RandomForestRegressor\n",
    "from sklearn.metrics import mean_squared_error\n",
    "parameters = {'bootstrap': [True],\n",
    " 'max_depth': [5,7,9],\n",
    " 'max_features': ['auto'],\n",
    " 'n_estimators': [800,1000,1200]}\n",
    "regr = RandomForestRegressor()\n",
    "\n",
    "clf = GridSearchCV(regr, parameters, n_jobs=-1, cv=5)\n",
    "clf.fit(x_train, y_train)"
   ]
  },
  {
   "cell_type": "code",
   "execution_count": 37,
   "id": "3158539a",
   "metadata": {},
   "outputs": [
    {
     "name": "stdout",
     "output_type": "stream",
     "text": [
      "{'bootstrap': True, 'max_depth': 9, 'max_features': 'auto', 'n_estimators': 1000}\n",
      "0.9713684553172486\n"
     ]
    }
   ],
   "source": [
    "print(clf.best_params_)\n",
    "print(clf.best_score_)"
   ]
  },
  {
   "cell_type": "code",
   "execution_count": 38,
   "id": "f0a6e84f",
   "metadata": {},
   "outputs": [
    {
     "data": {
      "text/plain": [
       "0.9732904647610293"
      ]
     },
     "execution_count": 38,
     "metadata": {},
     "output_type": "execute_result"
    }
   ],
   "source": [
    "y_pred_train = clf.predict(x_test)\n",
    "r2_score(y_test,y_pred_train)"
   ]
  },
  {
   "cell_type": "code",
   "execution_count": 39,
   "id": "6390ff12",
   "metadata": {},
   "outputs": [
    {
     "name": "stdout",
     "output_type": "stream",
     "text": [
      "Fitting 5 folds for each of 64 candidates, totalling 320 fits\n",
      "[17:41:45] WARNING: C:/Users/Administrator/workspace/xgboost-win64_release_1.6.0/src/objective/regression_obj.cu:203: reg:linear is now deprecated in favor of reg:squarederror.\n"
     ]
    },
    {
     "data": {
      "text/plain": [
       "GridSearchCV(cv=5,\n",
       "             estimator=XGBRegressor(base_score=None, booster=None,\n",
       "                                    callbacks=None, colsample_bylevel=None,\n",
       "                                    colsample_bynode=None,\n",
       "                                    colsample_bytree=None,\n",
       "                                    early_stopping_rounds=None,\n",
       "                                    enable_categorical=False, eval_metric=None,\n",
       "                                    gamma=None, gpu_id=None, grow_policy=None,\n",
       "                                    importance_type=None,\n",
       "                                    interaction_constraints=None,\n",
       "                                    learning_rate=None, max_bin=None,\n",
       "                                    max_cat...\n",
       "                                    max_depth=None, max_leaves=None,\n",
       "                                    min_child_weight=None, missing=nan,\n",
       "                                    monotone_constraints=None, n_estimators=100,\n",
       "                                    n_jobs=None, num_parallel_tree=None,\n",
       "                                    predictor=None, random_state=None,\n",
       "                                    reg_alpha=None, reg_lambda=None, ...),\n",
       "             n_jobs=-1,\n",
       "             param_grid={'learning_rate': [0.1, 0.01],\n",
       "                         'max_depth': [3, 5, 7, 9],\n",
       "                         'n_estimators': [400, 500, 600, 700],\n",
       "                         'objective': ['reg:linear', 'reg:squaredlogerror']},\n",
       "             verbose=True)"
      ]
     },
     "execution_count": 39,
     "metadata": {},
     "output_type": "execute_result"
    }
   ],
   "source": [
    "import xgboost as xgb\n",
    "from xgboost.sklearn import XGBRegressor\n",
    "from sklearn.model_selection import GridSearchCV\n",
    "# Various hyper-parameters to tune\n",
    "xgb1 = XGBRegressor()\n",
    "parameters = {\n",
    "              'objective':['reg:linear','reg:squaredlogerror',],\n",
    "              'learning_rate': [0.1,0.01,], #so called `eta` value\n",
    "              'max_depth': [3,5,7,9],\n",
    "              'n_estimators': [400,500,600,700]}\n",
    "\n",
    "xgb_grid = GridSearchCV(xgb1,\n",
    "                        parameters,\n",
    "                        cv = 5,\n",
    "                        n_jobs = -1,\n",
    "                        verbose=True)\n",
    "\n",
    "xgb_grid.fit(x_train, y_train)\n"
   ]
  },
  {
   "cell_type": "code",
   "execution_count": 40,
   "id": "577cadcd",
   "metadata": {},
   "outputs": [
    {
     "name": "stdout",
     "output_type": "stream",
     "text": [
      "0.9798738459624593\n",
      "{'learning_rate': 0.01, 'max_depth': 9, 'n_estimators': 700, 'objective': 'reg:linear'}\n"
     ]
    }
   ],
   "source": [
    "print(xgb_grid.best_score_)\n",
    "print(xgb_grid.best_params_)"
   ]
  },
  {
   "cell_type": "code",
   "execution_count": 41,
   "id": "fc6c1619",
   "metadata": {},
   "outputs": [
    {
     "data": {
      "text/plain": [
       "0.9736112149774535"
      ]
     },
     "execution_count": 41,
     "metadata": {},
     "output_type": "execute_result"
    }
   ],
   "source": [
    "Xg_pred = xgb_grid.predict(x_test)\n",
    "r2_score(y_test,Xg_pred)"
   ]
  },
  {
   "cell_type": "code",
   "execution_count": 42,
   "id": "40c895bf",
   "metadata": {},
   "outputs": [
    {
     "name": "stdout",
     "output_type": "stream",
     "text": [
      "Wall time: 140 ms\n"
     ]
    }
   ],
   "source": [
    "%%time\n",
    "import pickle\n",
    "# # saved the trained model in file with given name\n",
    "pickle_out = open(\"advertising_random_forest.pickle\",\"wb\") # name of my pickle file , wb -write\n",
    "pickle.dump(clf, pickle_out)\n",
    "pickle_out.close()"
   ]
  },
  {
   "cell_type": "code",
   "execution_count": 44,
   "id": "cd8193b0",
   "metadata": {},
   "outputs": [
    {
     "data": {
      "text/plain": [
       "array([ 9.0283605 , 12.89499061, 11.66266635, 10.34886662,  7.68782524,\n",
       "       21.51245574, 24.67775542,  7.82836667,  8.40471833,  6.44867   ,\n",
       "       12.6161975 , 15.16614379,  7.51691056, 14.06776198, 19.02655429,\n",
       "       12.22833768, 19.50635262, 10.23293559, 18.03742354, 16.91729427,\n",
       "       10.59377167, 24.84839661, 16.200965  , 23.52401327, 19.75119898,\n",
       "        9.67141663, 16.92245667,  6.77329222, 18.17669901,  9.94489784,\n",
       "       12.96873571, 12.24834134, 10.95490667, 11.69921857, 19.8353522 ,\n",
       "       19.5815022 ,  6.92895476, 20.29320553, 20.3951091 , 15.16819921])"
      ]
     },
     "execution_count": 44,
     "metadata": {},
     "output_type": "execute_result"
    }
   ],
   "source": [
    "# loading the pickeled model\n",
    "pickle_in = open(\"advertising_random_forest.pickle\",\"rb\") # rb -> read the pickel file\n",
    "trained_model = pickle.load(pickle_in)\n",
    "trained_model.predict(x_test)"
   ]
  },
  {
   "cell_type": "code",
   "execution_count": 45,
   "id": "9ed5512c",
   "metadata": {},
   "outputs": [],
   "source": [
    "import pickle\n",
    "# # saved the trained model in file with given name\n",
    "pickle_out = open(\"advertising_xgboost.pickle\",\"wb\") # name of my pickle file , wb -write\n",
    "pickle.dump(clf, pickle_out)\n",
    "pickle_out.close()"
   ]
  },
  {
   "cell_type": "code",
   "execution_count": 46,
   "id": "d7a1357a",
   "metadata": {},
   "outputs": [
    {
     "data": {
      "text/plain": [
       "array([ 9.0283605 , 12.89499061, 11.66266635, 10.34886662,  7.68782524,\n",
       "       21.51245574, 24.67775542,  7.82836667,  8.40471833,  6.44867   ,\n",
       "       12.6161975 , 15.16614379,  7.51691056, 14.06776198, 19.02655429,\n",
       "       12.22833768, 19.50635262, 10.23293559, 18.03742354, 16.91729427,\n",
       "       10.59377167, 24.84839661, 16.200965  , 23.52401327, 19.75119898,\n",
       "        9.67141663, 16.92245667,  6.77329222, 18.17669901,  9.94489784,\n",
       "       12.96873571, 12.24834134, 10.95490667, 11.69921857, 19.8353522 ,\n",
       "       19.5815022 ,  6.92895476, 20.29320553, 20.3951091 , 15.16819921])"
      ]
     },
     "execution_count": 46,
     "metadata": {},
     "output_type": "execute_result"
    }
   ],
   "source": [
    "# loading the pickeled model\n",
    "pickle_in = open(\"advertising_xgboost.pickle\",\"rb\") # rb -> read the pickel file\n",
    "trained_model = pickle.load(pickle_in)\n",
    "trained_model.predict(x_test)"
   ]
  },
  {
   "cell_type": "code",
   "execution_count": null,
   "id": "f98e0ea9",
   "metadata": {},
   "outputs": [],
   "source": []
  }
 ],
 "metadata": {
  "kernelspec": {
   "display_name": "Python 3",
   "language": "python",
   "name": "python3"
  },
  "language_info": {
   "codemirror_mode": {
    "name": "ipython",
    "version": 3
   },
   "file_extension": ".py",
   "mimetype": "text/x-python",
   "name": "python",
   "nbconvert_exporter": "python",
   "pygments_lexer": "ipython3",
   "version": "3.8.8"
  }
 },
 "nbformat": 4,
 "nbformat_minor": 5
}
